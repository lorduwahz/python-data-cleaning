{
  "nbformat": 4,
  "nbformat_minor": 0,
  "metadata": {
    "colab": {
      "name": "GB_Data_Visualisation.ipynb",
      "provenance": [],
      "collapsed_sections": [],
      "authorship_tag": "ABX9TyOYtp8OO2kD4y4dr1zwNhQ3",
      "include_colab_link": true
    },
    "kernelspec": {
      "name": "python3",
      "display_name": "Python 3"
    },
    "language_info": {
      "name": "python"
    }
  },
  "cells": [
    {
      "cell_type": "markdown",
      "metadata": {
        "id": "view-in-github",
        "colab_type": "text"
      },
      "source": [
        "<a href=\"https://colab.research.google.com/github/lorduwahz/python-data-cleaning/blob/master/GB_Data_Visualisation.ipynb\" target=\"_parent\"><img src=\"https://colab.research.google.com/assets/colab-badge.svg\" alt=\"Open In Colab\"/></a>"
      ]
    },
    {
      "cell_type": "code",
      "metadata": {
        "id": "M9c0Z6nzLzd7"
      },
      "source": [
        "import pandas as pd"
      ],
      "execution_count": 2,
      "outputs": []
    },
    {
      "cell_type": "code",
      "metadata": {
        "id": "ecRv3yoAMzkC"
      },
      "source": [
        "download_url = (\"https://raw.githubusercontent.com/fivethirtyeight/\"\n",
        "               \"data/master/college-majors/recent-grads.csv\"\n",
        "   )\n",
        "\n",
        "df = pd.read_csv(download_url)"
      ],
      "execution_count": 3,
      "outputs": []
    },
    {
      "cell_type": "code",
      "metadata": {
        "colab": {
          "base_uri": "https://localhost:8080/",
          "height": 607
        },
        "id": "qTbv0WfLV8p9",
        "outputId": "e031722e-1a5f-4860-fa49-80c96baf1331"
      },
      "source": [
        "df.head(10)"
      ],
      "execution_count": 4,
      "outputs": [
        {
          "output_type": "execute_result",
          "data": {
            "text/html": [
              "<div>\n",
              "<style scoped>\n",
              "    .dataframe tbody tr th:only-of-type {\n",
              "        vertical-align: middle;\n",
              "    }\n",
              "\n",
              "    .dataframe tbody tr th {\n",
              "        vertical-align: top;\n",
              "    }\n",
              "\n",
              "    .dataframe thead th {\n",
              "        text-align: right;\n",
              "    }\n",
              "</style>\n",
              "<table border=\"1\" class=\"dataframe\">\n",
              "  <thead>\n",
              "    <tr style=\"text-align: right;\">\n",
              "      <th></th>\n",
              "      <th>Rank</th>\n",
              "      <th>Major_code</th>\n",
              "      <th>Major</th>\n",
              "      <th>Total</th>\n",
              "      <th>Men</th>\n",
              "      <th>Women</th>\n",
              "      <th>Major_category</th>\n",
              "      <th>ShareWomen</th>\n",
              "      <th>Sample_size</th>\n",
              "      <th>Employed</th>\n",
              "      <th>Full_time</th>\n",
              "      <th>Part_time</th>\n",
              "      <th>Full_time_year_round</th>\n",
              "      <th>Unemployed</th>\n",
              "      <th>Unemployment_rate</th>\n",
              "      <th>Median</th>\n",
              "      <th>P25th</th>\n",
              "      <th>P75th</th>\n",
              "      <th>College_jobs</th>\n",
              "      <th>Non_college_jobs</th>\n",
              "      <th>Low_wage_jobs</th>\n",
              "    </tr>\n",
              "  </thead>\n",
              "  <tbody>\n",
              "    <tr>\n",
              "      <th>0</th>\n",
              "      <td>1</td>\n",
              "      <td>2419</td>\n",
              "      <td>PETROLEUM ENGINEERING</td>\n",
              "      <td>2339.0</td>\n",
              "      <td>2057.0</td>\n",
              "      <td>282.0</td>\n",
              "      <td>Engineering</td>\n",
              "      <td>0.120564</td>\n",
              "      <td>36</td>\n",
              "      <td>1976</td>\n",
              "      <td>1849</td>\n",
              "      <td>270</td>\n",
              "      <td>1207</td>\n",
              "      <td>37</td>\n",
              "      <td>0.018381</td>\n",
              "      <td>110000</td>\n",
              "      <td>95000</td>\n",
              "      <td>125000</td>\n",
              "      <td>1534</td>\n",
              "      <td>364</td>\n",
              "      <td>193</td>\n",
              "    </tr>\n",
              "    <tr>\n",
              "      <th>1</th>\n",
              "      <td>2</td>\n",
              "      <td>2416</td>\n",
              "      <td>MINING AND MINERAL ENGINEERING</td>\n",
              "      <td>756.0</td>\n",
              "      <td>679.0</td>\n",
              "      <td>77.0</td>\n",
              "      <td>Engineering</td>\n",
              "      <td>0.101852</td>\n",
              "      <td>7</td>\n",
              "      <td>640</td>\n",
              "      <td>556</td>\n",
              "      <td>170</td>\n",
              "      <td>388</td>\n",
              "      <td>85</td>\n",
              "      <td>0.117241</td>\n",
              "      <td>75000</td>\n",
              "      <td>55000</td>\n",
              "      <td>90000</td>\n",
              "      <td>350</td>\n",
              "      <td>257</td>\n",
              "      <td>50</td>\n",
              "    </tr>\n",
              "    <tr>\n",
              "      <th>2</th>\n",
              "      <td>3</td>\n",
              "      <td>2415</td>\n",
              "      <td>METALLURGICAL ENGINEERING</td>\n",
              "      <td>856.0</td>\n",
              "      <td>725.0</td>\n",
              "      <td>131.0</td>\n",
              "      <td>Engineering</td>\n",
              "      <td>0.153037</td>\n",
              "      <td>3</td>\n",
              "      <td>648</td>\n",
              "      <td>558</td>\n",
              "      <td>133</td>\n",
              "      <td>340</td>\n",
              "      <td>16</td>\n",
              "      <td>0.024096</td>\n",
              "      <td>73000</td>\n",
              "      <td>50000</td>\n",
              "      <td>105000</td>\n",
              "      <td>456</td>\n",
              "      <td>176</td>\n",
              "      <td>0</td>\n",
              "    </tr>\n",
              "    <tr>\n",
              "      <th>3</th>\n",
              "      <td>4</td>\n",
              "      <td>2417</td>\n",
              "      <td>NAVAL ARCHITECTURE AND MARINE ENGINEERING</td>\n",
              "      <td>1258.0</td>\n",
              "      <td>1123.0</td>\n",
              "      <td>135.0</td>\n",
              "      <td>Engineering</td>\n",
              "      <td>0.107313</td>\n",
              "      <td>16</td>\n",
              "      <td>758</td>\n",
              "      <td>1069</td>\n",
              "      <td>150</td>\n",
              "      <td>692</td>\n",
              "      <td>40</td>\n",
              "      <td>0.050125</td>\n",
              "      <td>70000</td>\n",
              "      <td>43000</td>\n",
              "      <td>80000</td>\n",
              "      <td>529</td>\n",
              "      <td>102</td>\n",
              "      <td>0</td>\n",
              "    </tr>\n",
              "    <tr>\n",
              "      <th>4</th>\n",
              "      <td>5</td>\n",
              "      <td>2405</td>\n",
              "      <td>CHEMICAL ENGINEERING</td>\n",
              "      <td>32260.0</td>\n",
              "      <td>21239.0</td>\n",
              "      <td>11021.0</td>\n",
              "      <td>Engineering</td>\n",
              "      <td>0.341631</td>\n",
              "      <td>289</td>\n",
              "      <td>25694</td>\n",
              "      <td>23170</td>\n",
              "      <td>5180</td>\n",
              "      <td>16697</td>\n",
              "      <td>1672</td>\n",
              "      <td>0.061098</td>\n",
              "      <td>65000</td>\n",
              "      <td>50000</td>\n",
              "      <td>75000</td>\n",
              "      <td>18314</td>\n",
              "      <td>4440</td>\n",
              "      <td>972</td>\n",
              "    </tr>\n",
              "    <tr>\n",
              "      <th>5</th>\n",
              "      <td>6</td>\n",
              "      <td>2418</td>\n",
              "      <td>NUCLEAR ENGINEERING</td>\n",
              "      <td>2573.0</td>\n",
              "      <td>2200.0</td>\n",
              "      <td>373.0</td>\n",
              "      <td>Engineering</td>\n",
              "      <td>0.144967</td>\n",
              "      <td>17</td>\n",
              "      <td>1857</td>\n",
              "      <td>2038</td>\n",
              "      <td>264</td>\n",
              "      <td>1449</td>\n",
              "      <td>400</td>\n",
              "      <td>0.177226</td>\n",
              "      <td>65000</td>\n",
              "      <td>50000</td>\n",
              "      <td>102000</td>\n",
              "      <td>1142</td>\n",
              "      <td>657</td>\n",
              "      <td>244</td>\n",
              "    </tr>\n",
              "    <tr>\n",
              "      <th>6</th>\n",
              "      <td>7</td>\n",
              "      <td>6202</td>\n",
              "      <td>ACTUARIAL SCIENCE</td>\n",
              "      <td>3777.0</td>\n",
              "      <td>2110.0</td>\n",
              "      <td>1667.0</td>\n",
              "      <td>Business</td>\n",
              "      <td>0.441356</td>\n",
              "      <td>51</td>\n",
              "      <td>2912</td>\n",
              "      <td>2924</td>\n",
              "      <td>296</td>\n",
              "      <td>2482</td>\n",
              "      <td>308</td>\n",
              "      <td>0.095652</td>\n",
              "      <td>62000</td>\n",
              "      <td>53000</td>\n",
              "      <td>72000</td>\n",
              "      <td>1768</td>\n",
              "      <td>314</td>\n",
              "      <td>259</td>\n",
              "    </tr>\n",
              "    <tr>\n",
              "      <th>7</th>\n",
              "      <td>8</td>\n",
              "      <td>5001</td>\n",
              "      <td>ASTRONOMY AND ASTROPHYSICS</td>\n",
              "      <td>1792.0</td>\n",
              "      <td>832.0</td>\n",
              "      <td>960.0</td>\n",
              "      <td>Physical Sciences</td>\n",
              "      <td>0.535714</td>\n",
              "      <td>10</td>\n",
              "      <td>1526</td>\n",
              "      <td>1085</td>\n",
              "      <td>553</td>\n",
              "      <td>827</td>\n",
              "      <td>33</td>\n",
              "      <td>0.021167</td>\n",
              "      <td>62000</td>\n",
              "      <td>31500</td>\n",
              "      <td>109000</td>\n",
              "      <td>972</td>\n",
              "      <td>500</td>\n",
              "      <td>220</td>\n",
              "    </tr>\n",
              "    <tr>\n",
              "      <th>8</th>\n",
              "      <td>9</td>\n",
              "      <td>2414</td>\n",
              "      <td>MECHANICAL ENGINEERING</td>\n",
              "      <td>91227.0</td>\n",
              "      <td>80320.0</td>\n",
              "      <td>10907.0</td>\n",
              "      <td>Engineering</td>\n",
              "      <td>0.119559</td>\n",
              "      <td>1029</td>\n",
              "      <td>76442</td>\n",
              "      <td>71298</td>\n",
              "      <td>13101</td>\n",
              "      <td>54639</td>\n",
              "      <td>4650</td>\n",
              "      <td>0.057342</td>\n",
              "      <td>60000</td>\n",
              "      <td>48000</td>\n",
              "      <td>70000</td>\n",
              "      <td>52844</td>\n",
              "      <td>16384</td>\n",
              "      <td>3253</td>\n",
              "    </tr>\n",
              "    <tr>\n",
              "      <th>9</th>\n",
              "      <td>10</td>\n",
              "      <td>2408</td>\n",
              "      <td>ELECTRICAL ENGINEERING</td>\n",
              "      <td>81527.0</td>\n",
              "      <td>65511.0</td>\n",
              "      <td>16016.0</td>\n",
              "      <td>Engineering</td>\n",
              "      <td>0.196450</td>\n",
              "      <td>631</td>\n",
              "      <td>61928</td>\n",
              "      <td>55450</td>\n",
              "      <td>12695</td>\n",
              "      <td>41413</td>\n",
              "      <td>3895</td>\n",
              "      <td>0.059174</td>\n",
              "      <td>60000</td>\n",
              "      <td>45000</td>\n",
              "      <td>72000</td>\n",
              "      <td>45829</td>\n",
              "      <td>10874</td>\n",
              "      <td>3170</td>\n",
              "    </tr>\n",
              "  </tbody>\n",
              "</table>\n",
              "</div>"
            ],
            "text/plain": [
              "   Rank  Major_code  ... Non_college_jobs  Low_wage_jobs\n",
              "0     1        2419  ...              364            193\n",
              "1     2        2416  ...              257             50\n",
              "2     3        2415  ...              176              0\n",
              "3     4        2417  ...              102              0\n",
              "4     5        2405  ...             4440            972\n",
              "5     6        2418  ...              657            244\n",
              "6     7        6202  ...              314            259\n",
              "7     8        5001  ...              500            220\n",
              "8     9        2414  ...            16384           3253\n",
              "9    10        2408  ...            10874           3170\n",
              "\n",
              "[10 rows x 21 columns]"
            ]
          },
          "metadata": {
            "tags": []
          },
          "execution_count": 4
        }
      ]
    },
    {
      "cell_type": "code",
      "metadata": {
        "colab": {
          "base_uri": "https://localhost:8080/"
        },
        "id": "2mGT0Qy3WRuM",
        "outputId": "402fbb77-c18c-43e6-eb12-bdff3e82e669"
      },
      "source": [
        "df['Major'].is_unique"
      ],
      "execution_count": 5,
      "outputs": [
        {
          "output_type": "execute_result",
          "data": {
            "text/plain": [
              "True"
            ]
          },
          "metadata": {
            "tags": []
          },
          "execution_count": 5
        }
      ]
    },
    {
      "cell_type": "code",
      "metadata": {
        "colab": {
          "base_uri": "https://localhost:8080/"
        },
        "id": "yOvY4b79NkEG",
        "outputId": "e112e23b-febd-4036-a003-7f0f2384526f"
      },
      "source": [
        "df.columns"
      ],
      "execution_count": 6,
      "outputs": [
        {
          "output_type": "execute_result",
          "data": {
            "text/plain": [
              "Index(['Rank', 'Major_code', 'Major', 'Total', 'Men', 'Women',\n",
              "       'Major_category', 'ShareWomen', 'Sample_size', 'Employed', 'Full_time',\n",
              "       'Part_time', 'Full_time_year_round', 'Unemployed', 'Unemployment_rate',\n",
              "       'Median', 'P25th', 'P75th', 'College_jobs', 'Non_college_jobs',\n",
              "       'Low_wage_jobs'],\n",
              "      dtype='object')"
            ]
          },
          "metadata": {
            "tags": []
          },
          "execution_count": 6
        }
      ]
    },
    {
      "cell_type": "code",
      "metadata": {
        "id": "T8b_xydPVe8e"
      },
      "source": [
        "%matplotlib inline"
      ],
      "execution_count": 7,
      "outputs": []
    },
    {
      "cell_type": "code",
      "metadata": {
        "colab": {
          "base_uri": "https://localhost:8080/",
          "height": 296
        },
        "id": "MzNlw2XHcC4o",
        "outputId": "3c9df713-43ba-43dd-c620-476f682904c1"
      },
      "source": [
        "df.plot(x='Rank', y=['Median', 'P25th', 'P75th'])\n",
        "#<AxesSubplot:xlabel='Rank'>"
      ],
      "execution_count": 9,
      "outputs": [
        {
          "output_type": "execute_result",
          "data": {
            "text/plain": [
              "<matplotlib.axes._subplots.AxesSubplot at 0x7f635aabe7d0>"
            ]
          },
          "metadata": {
            "tags": []
          },
          "execution_count": 9
        },
        {
          "output_type": "display_data",
          "data": {
            "image/png": "[encoded data removed]",
            "text/plain": [
              "<Figure size 432x288 with 1 Axes>"
            ]
          },
          "metadata": {
            "tags": [],
            "needs_background": "light"
          }
        }
      ]
    },
    {
      "cell_type": "code",
      "metadata": {
        "colab": {
          "base_uri": "https://localhost:8080/",
          "height": 296
        },
        "id": "hyNk2bMljmC3",
        "outputId": "af9b0973-46dc-444a-d8d4-76506e9c4a2f"
      },
      "source": [
        "df.plot(x='Rank', y='P75th')"
      ],
      "execution_count": 10,
      "outputs": [
        {
          "output_type": "execute_result",
          "data": {
            "text/plain": [
              "<matplotlib.axes._subplots.AxesSubplot at 0x7f635aa63c90>"
            ]
          },
          "metadata": {
            "tags": []
          },
          "execution_count": 10
        },
        {
          "output_type": "display_data",
          "data": {
            "image/png": "[encoded data removed]",
            "text/plain": [
              "<Figure size 432x288 with 1 Axes>"
            ]
          },
          "metadata": {
            "tags": [],
            "needs_background": "light"
          }
        }
      ]
    },
    {
      "cell_type": "code",
      "metadata": {
        "colab": {
          "base_uri": "https://localhost:8080/",
          "height": 282
        },
        "id": "2NrsXVXklHJU",
        "outputId": "57f70a8a-8e2b-4dce-b0cf-385b8626213f"
      },
      "source": [
        "median_plt = df['Median']\n",
        "median_plt.plot(kind='hist')"
      ],
      "execution_count": 11,
      "outputs": [
        {
          "output_type": "execute_result",
          "data": {
            "text/plain": [
              "<matplotlib.axes._subplots.AxesSubplot at 0x7f635a9e4f50>"
            ]
          },
          "metadata": {
            "tags": []
          },
          "execution_count": 11
        },
        {
          "output_type": "display_data",
          "data": {
            "image/png": "[encoded data removed]",
            "text/plain": [
              "<Figure size 432x288 with 1 Axes>"
            ]
          },
          "metadata": {
            "tags": [],
            "needs_background": "light"
          }
        }
      ]
    },
    {
      "cell_type": "code",
      "metadata": {
        "colab": {
          "base_uri": "https://localhost:8080/"
        },
        "id": "p6D7B3BNl0ty",
        "outputId": "82710a41-a941-46e8-a414-027b9dcf6d79"
      },
      "source": [
        "type(median_plt)"
      ],
      "execution_count": 12,
      "outputs": [
        {
          "output_type": "execute_result",
          "data": {
            "text/plain": [
              "pandas.core.series.Series"
            ]
          },
          "metadata": {
            "tags": []
          },
          "execution_count": 12
        }
      ]
    },
    {
      "cell_type": "code",
      "metadata": {
        "colab": {
          "base_uri": "https://localhost:8080/"
        },
        "id": "FRSPDeRWmKll",
        "outputId": "3c58954d-37ee-4359-9f57-b7ba93932db2"
      },
      "source": [
        "median_lst = median_plt.to_list()\n",
        "median_lst.sort()\n",
        "len(median_lst)"
      ],
      "execution_count": 13,
      "outputs": [
        {
          "output_type": "execute_result",
          "data": {
            "text/plain": [
              "173"
            ]
          },
          "metadata": {
            "tags": []
          },
          "execution_count": 13
        }
      ]
    },
    {
      "cell_type": "code",
      "metadata": {
        "id": "tecLMuC3n7WI"
      },
      "source": [
        "top_5 = df.sort_values(by='Median', ascending=False).head(7)"
      ],
      "execution_count": 14,
      "outputs": []
    },
    {
      "cell_type": "code",
      "metadata": {
        "colab": {
          "base_uri": "https://localhost:8080/",
          "height": 299
        },
        "id": "nANBtt4Npq1f",
        "outputId": "889e0ef1-4d88-407b-a0e9-fa3a9e8864c9"
      },
      "source": [
        "top_5.plot(x=\"Major\", y=\"Median\", kind=\"bar\", rot=5, fontsize=4)"
      ],
      "execution_count": 15,
      "outputs": [
        {
          "output_type": "execute_result",
          "data": {
            "text/plain": [
              "<matplotlib.axes._subplots.AxesSubplot at 0x7f635aa67cd0>"
            ]
          },
          "metadata": {
            "tags": []
          },
          "execution_count": 15
        },
        {
          "output_type": "display_data",
          "data": {
            "image/png": "[encoded data removed]",
            "text/plain": [
              "<Figure size 432x288 with 1 Axes>"
            ]
          },
          "metadata": {
            "tags": [],
            "needs_background": "light"
          }
        }
      ]
    },
    {
      "cell_type": "code",
      "metadata": {
        "id": "vj3qh3_U1bTg"
      },
      "source": [
        "top_majors = df[df['Median'] > 60000].sort_values('Median')"
      ],
      "execution_count": 16,
      "outputs": []
    },
    {
      "cell_type": "code",
      "metadata": {
        "colab": {
          "base_uri": "https://localhost:8080/",
          "height": 538
        },
        "id": "QDd7r_rB117r",
        "outputId": "3e5b08a6-de43-4d01-9ed6-c74109337a88"
      },
      "source": [
        "top_majors.plot(x='Major', y=['P25th', 'Median', 'P75th'], kind='bar')"
      ],
      "execution_count": 18,
      "outputs": [
        {
          "output_type": "execute_result",
          "data": {
            "text/plain": [
              "<matplotlib.axes._subplots.AxesSubplot at 0x7f635a9602d0>"
            ]
          },
          "metadata": {
            "tags": []
          },
          "execution_count": 18
        },
        {
          "output_type": "display_data",
          "data": {
            "image/png": "[encoded data removed]",
            "text/plain": [
              "<Figure size 432x288 with 1 Axes>"
            ]
          },
          "metadata": {
            "tags": [],
            "needs_background": "light"
          }
        }
      ]
    },
    {
      "cell_type": "code",
      "metadata": {
        "colab": {
          "base_uri": "https://localhost:8080/",
          "height": 296
        },
        "id": "6q5h4ij24baR",
        "outputId": "cd82a3f1-63f4-4112-f73d-ac5766db8c88"
      },
      "source": [
        "top_majors.plot(x='Median', y='Unemployment_rate', kind='scatter')"
      ],
      "execution_count": 19,
      "outputs": [
        {
          "output_type": "execute_result",
          "data": {
            "text/plain": [
              "<matplotlib.axes._subplots.AxesSubplot at 0x7f635a4c24d0>"
            ]
          },
          "metadata": {
            "tags": []
          },
          "execution_count": 19
        },
        {
          "output_type": "display_data",
          "data": {
            "image/png": "[encoded data removed]",
            "text/plain": [
              "<Figure size 432x288 with 1 Axes>"
            ]
          },
          "metadata": {
            "tags": [],
            "needs_background": "light"
          }
        }
      ]
    },
    {
      "cell_type": "code",
      "metadata": {
        "colab": {
          "base_uri": "https://localhost:8080/"
        },
        "id": "JOQzkWPG70ND",
        "outputId": "a93df329-a74b-4d0e-b792-e8010b8ebb49"
      },
      "source": [
        "cat_totals = df.groupby(\"Major_category\")[\"Median\"].sum().sort_values()\n",
        "cat_totals"
      ],
      "execution_count": 23,
      "outputs": [
        {
          "output_type": "execute_result",
          "data": {
            "text/plain": [
              "Major_category\n",
              "Interdisciplinary                        35000\n",
              "Communications & Journalism             138000\n",
              "Law & Public Policy                     211000\n",
              "Industrial Arts & Consumer Services     254400\n",
              "Arts                                    264500\n",
              "Psychology & Social Work                270900\n",
              "Social Science                          336100\n",
              "Agriculture & Natural Resources         369000\n",
              "Physical Sciences                       418900\n",
              "Health                                  441900\n",
              "Computers & Mathematics                 470200\n",
              "Humanities & Liberal Arts               478700\n",
              "Biology & Life Science                  509900\n",
              "Education                               517600\n",
              "Business                                566000\n",
              "Engineering                            1664100\n",
              "Name: Median, dtype: int64"
            ]
          },
          "metadata": {
            "tags": []
          },
          "execution_count": 23
        }
      ]
    },
    {
      "cell_type": "code",
      "metadata": {
        "colab": {
          "base_uri": "https://localhost:8080/",
          "height": 282
        },
        "id": "3Nnk6qPEkVxA",
        "outputId": "938a69bb-105d-4416-8c53-ad6374163f3c"
      },
      "source": [
        "df[df[\"Major_category\"] == \"Engineering\"][\"Median\"].plot(kind=\"hist\")"
      ],
      "execution_count": 24,
      "outputs": [
        {
          "output_type": "execute_result",
          "data": {
            "text/plain": [
              "<matplotlib.axes._subplots.AxesSubplot at 0x7f635a413450>"
            ]
          },
          "metadata": {
            "tags": []
          },
          "execution_count": 24
        },
        {
          "output_type": "display_data",
          "data": {
            "image/png": "[encoded data removed]",
            "text/plain": [
              "<Figure size 432x288 with 1 Axes>"
            ]
          },
          "metadata": {
            "tags": [],
            "needs_background": "light"
          }
        }
      ]
    }
  ]
}