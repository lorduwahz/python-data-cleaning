{
  "nbformat": 4,
  "nbformat_minor": 0,
  "metadata": {
    "colab": {
      "name": "Data cleaning with pandas.ipynb",
      "provenance": [],
      "collapsed_sections": [],
      "authorship_tag": "ABX9TyOdnsZ56SD/D+rrtZ0U/rix",
      "include_colab_link": true
    },
    "kernelspec": {
      "name": "python3",
      "display_name": "Python 3"
    },
    "language_info": {
      "name": "python"
    }
  },
  "cells": [
    {
      "cell_type": "markdown",
      "metadata": {
        "id": "view-in-github",
        "colab_type": "text"
      },
      "source": [
        "<a href=\"https://colab.research.google.com/github/lorduwahz/python-data-cleaning/blob/master/Data_cleaning_with_pandas.ipynb\" target=\"_parent\"><img src=\"https://colab.research.google.com/assets/colab-badge.svg\" alt=\"Open In Colab\"/></a>"
      ]
    },
    {
      "cell_type": "code",
      "metadata": {
        "id": "Q1blkT-EleiE"
      },
      "source": [
        "import pandas as pd\n",
        "import numpy as np"
      ],
      "execution_count": 1,
      "outputs": []
    },
    {
      "cell_type": "code",
      "metadata": {
        "colab": {
          "base_uri": "https://localhost:8080/"
        },
        "id": "X9dq5QiNmzMK",
        "outputId": "5ec455d1-28c8-4678-b0c6-a2614beb643a"
      },
      "source": [
        "df = pd.read_csv('BL-Flickr-Images-Book.csv')\n",
        "df.head"
      ],
      "execution_count": 16,
      "outputs": [
        {
          "output_type": "execute_result",
          "data": {
            "text/plain": [
              "<bound method NDFrame.head of       Identifier  ...                                         Shelfmarks\n",
              "0            206  ...                  British Library HMNTS 12641.b.30.\n",
              "1            216  ...                  British Library HMNTS 12626.cc.2.\n",
              "2            218  ...                  British Library HMNTS 12625.dd.1.\n",
              "3            472  ...                British Library HMNTS 10369.bbb.15.\n",
              "4            480  ...                   British Library HMNTS 9007.d.28.\n",
              "...          ...  ...                                                ...\n",
              "8282     4158088  ...  British Library HMNTS|British Library HMNTS 10...\n",
              "8283     4158128  ...  British Library HMNTS|British Library HMNTS 10...\n",
              "8284     4159563  ...  British Library HMNTS|British Library HMNTS 19...\n",
              "8285     4159587  ...  British Library HMNTS|British Library HMNTS 10...\n",
              "8286     4160339  ...  British Library HMNTS|British Library HMNTS 79...\n",
              "\n",
              "[8287 rows x 15 columns]>"
            ]
          },
          "metadata": {
            "tags": []
          },
          "execution_count": 16
        }
      ]
    },
    {
      "cell_type": "code",
      "metadata": {
        "colab": {
          "base_uri": "https://localhost:8080/"
        },
        "id": "p-ZG7pUKo8uE",
        "outputId": "aee563f2-2741-4f67-845a-10ca4bcd9687"
      },
      "source": [
        "df.columns"
      ],
      "execution_count": 17,
      "outputs": [
        {
          "output_type": "execute_result",
          "data": {
            "text/plain": [
              "Index(['Identifier', 'Edition Statement', 'Place of Publication',\n",
              "       'Date of Publication', 'Publisher', 'Title', 'Author', 'Contributors',\n",
              "       'Corporate Author', 'Corporate Contributors', 'Former owner',\n",
              "       'Engraver', 'Issuance type', 'Flickr URL', 'Shelfmarks'],\n",
              "      dtype='object')"
            ]
          },
          "metadata": {
            "tags": []
          },
          "execution_count": 17
        }
      ]
    },
    {
      "cell_type": "code",
      "metadata": {
        "colab": {
          "base_uri": "https://localhost:8080/"
        },
        "id": "bAfHIKKupgy6",
        "outputId": "acdf3b43-a1d5-42c6-9d95-670c599a879a"
      },
      "source": [
        "df['Former owner']"
      ],
      "execution_count": 18,
      "outputs": [
        {
          "output_type": "execute_result",
          "data": {
            "text/plain": [
              "0       NaN\n",
              "1       NaN\n",
              "2       NaN\n",
              "3       NaN\n",
              "4       NaN\n",
              "       ... \n",
              "8282    NaN\n",
              "8283    NaN\n",
              "8284    NaN\n",
              "8285    NaN\n",
              "8286    NaN\n",
              "Name: Former owner, Length: 8287, dtype: object"
            ]
          },
          "metadata": {
            "tags": []
          },
          "execution_count": 18
        }
      ]
    },
    {
      "cell_type": "code",
      "metadata": {
        "id": "faEFHLPAnaST"
      },
      "source": [
        "to_drop = ['Edition Statement', 'Corporate Author',\n",
        "        'Corporate Contributors',\n",
        "        'Former owner',\n",
        "        'Engraver',\n",
        "        'Contributors',\n",
        "        'Issuance type',\n",
        "        'Shelfmarks'\n",
        "        ]\n",
        "\n",
        "df.drop(columns=to_drop, inplace=True)"
      ],
      "execution_count": 19,
      "outputs": []
    },
    {
      "cell_type": "code",
      "metadata": {
        "colab": {
          "base_uri": "https://localhost:8080/"
        },
        "id": "IEnmZ6lXpsGg",
        "outputId": "ae9ed161-16f4-4e7f-b79f-92c26af09e4f"
      },
      "source": [
        "df.columns"
      ],
      "execution_count": 20,
      "outputs": [
        {
          "output_type": "execute_result",
          "data": {
            "text/plain": [
              "Index(['Identifier', 'Place of Publication', 'Date of Publication',\n",
              "       'Publisher', 'Title', 'Author', 'Flickr URL'],\n",
              "      dtype='object')"
            ]
          },
          "metadata": {
            "tags": []
          },
          "execution_count": 20
        }
      ]
    },
    {
      "cell_type": "code",
      "metadata": {
        "colab": {
          "base_uri": "https://localhost:8080/"
        },
        "id": "gfg9bX9Sq-XX",
        "outputId": "4688676d-72da-46f9-e7d4-6d245be13f33"
      },
      "source": [
        "for column in df.columns:\n",
        "  if df[column].is_unique:\n",
        "    print(column)"
      ],
      "execution_count": 32,
      "outputs": [
        {
          "output_type": "stream",
          "text": [
            "Identifier\n",
            "Flickr URL\n"
          ],
          "name": "stdout"
        }
      ]
    },
    {
      "cell_type": "code",
      "metadata": {
        "colab": {
          "base_uri": "https://localhost:8080/"
        },
        "id": "QiMnN-oQqvua",
        "outputId": "a6db166d-4f3e-473f-eedd-8fb7722925df"
      },
      "source": [
        "df['Identifier'].is_unique"
      ],
      "execution_count": 21,
      "outputs": [
        {
          "output_type": "execute_result",
          "data": {
            "text/plain": [
              "True"
            ]
          },
          "metadata": {
            "tags": []
          },
          "execution_count": 21
        }
      ]
    },
    {
      "cell_type": "code",
      "metadata": {
        "colab": {
          "base_uri": "https://localhost:8080/"
        },
        "id": "RrOTdYpAtAVc",
        "outputId": "56c757ed-f8a0-4e25-be0a-adc7cdc43b96"
      },
      "source": [
        "df['Flickr URL'].is_unique"
      ],
      "execution_count": 33,
      "outputs": [
        {
          "output_type": "execute_result",
          "data": {
            "text/plain": [
              "True"
            ]
          },
          "metadata": {
            "tags": []
          },
          "execution_count": 33
        }
      ]
    },
    {
      "cell_type": "code",
      "metadata": {
        "colab": {
          "base_uri": "https://localhost:8080/"
        },
        "id": "ZJknrrzwtKes",
        "outputId": "837d7af2-be17-409d-e8c1-f28a3f5dc7c9"
      },
      "source": [
        "df.set_index('Identifier', inplace=True)\n",
        "df.head"
      ],
      "execution_count": 36,
      "outputs": [
        {
          "output_type": "execute_result",
          "data": {
            "text/plain": [
              "<bound method NDFrame.head of                 Place of Publication  ...                                         Flickr URL\n",
              "Identifier                            ...                                                   \n",
              "206                           London  ...  http://www.flickr.com/photos/britishlibrary/ta...\n",
              "216         London; Virtue & Yorston  ...  http://www.flickr.com/photos/britishlibrary/ta...\n",
              "218                           London  ...  http://www.flickr.com/photos/britishlibrary/ta...\n",
              "472                           London  ...  http://www.flickr.com/photos/britishlibrary/ta...\n",
              "480                           London  ...  http://www.flickr.com/photos/britishlibrary/ta...\n",
              "...                              ...  ...                                                ...\n",
              "4158088                       London  ...  http://www.flickr.com/photos/britishlibrary/ta...\n",
              "4158128                        Derby  ...  http://www.flickr.com/photos/britishlibrary/ta...\n",
              "4159563                       London  ...  http://www.flickr.com/photos/britishlibrary/ta...\n",
              "4159587          Newcastle upon Tyne  ...  http://www.flickr.com/photos/britishlibrary/ta...\n",
              "4160339                       London  ...  http://www.flickr.com/photos/britishlibrary/ta...\n",
              "\n",
              "[8287 rows x 6 columns]>"
            ]
          },
          "metadata": {
            "tags": []
          },
          "execution_count": 36
        }
      ]
    },
    {
      "cell_type": "code",
      "metadata": {
        "colab": {
          "base_uri": "https://localhost:8080/"
        },
        "id": "3HlJLc7ivaq_",
        "outputId": "65d0806c-604a-4bd8-dc8a-e74b8cf29958"
      },
      "source": [
        "df.loc[1905:, 'Date of Publication'].head(10)"
      ],
      "execution_count": 41,
      "outputs": [
        {
          "output_type": "execute_result",
          "data": {
            "text/plain": [
              "Identifier\n",
              "1905           1888\n",
              "1929    1839, 38-54\n",
              "2836           1897\n",
              "2854           1865\n",
              "2956        1860-63\n",
              "2957           1873\n",
              "3017           1866\n",
              "3131           1899\n",
              "4598           1814\n",
              "4884           1820\n",
              "Name: Date of Publication, dtype: object"
            ]
          },
          "metadata": {
            "tags": []
          },
          "execution_count": 41
        }
      ]
    },
    {
      "cell_type": "code",
      "metadata": {
        "colab": {
          "base_uri": "https://localhost:8080/"
        },
        "id": "XxpqcjouxIYk",
        "outputId": "cf183b33-fd53-4660-e135-fbfc233589f1"
      },
      "source": [
        " extr = df['Date of Publication'].str.extract(r'^(\\d{4})', expand=False)\n",
        " extr.head()"
      ],
      "execution_count": 43,
      "outputs": [
        {
          "output_type": "execute_result",
          "data": {
            "text/plain": [
              "Identifier\n",
              "206    1879\n",
              "216    1868\n",
              "218    1869\n",
              "472    1851\n",
              "480    1857\n",
              "Name: Date of Publication, dtype: object"
            ]
          },
          "metadata": {
            "tags": []
          },
          "execution_count": 43
        }
      ]
    },
    {
      "cell_type": "code",
      "metadata": {
        "colab": {
          "base_uri": "https://localhost:8080/"
        },
        "id": "ywbYqrUjxoAC",
        "outputId": "169abbe1-6d6b-4f8a-e0cd-33c64fe06cd6"
      },
      "source": [
        "df['Date of Publication'] = pd.to_numeric(extr)\n",
        "df.loc[1905:, 'Date of Publication'].head(10)"
      ],
      "execution_count": 45,
      "outputs": [
        {
          "output_type": "execute_result",
          "data": {
            "text/plain": [
              "Identifier\n",
              "1905    1888.0\n",
              "1929    1839.0\n",
              "2836    1897.0\n",
              "2854    1865.0\n",
              "2956    1860.0\n",
              "2957    1873.0\n",
              "3017    1866.0\n",
              "3131    1899.0\n",
              "4598    1814.0\n",
              "4884    1820.0\n",
              "Name: Date of Publication, dtype: float64"
            ]
          },
          "metadata": {
            "tags": []
          },
          "execution_count": 45
        }
      ]
    },
    {
      "cell_type": "code",
      "metadata": {
        "colab": {
          "base_uri": "https://localhost:8080/",
          "height": 315
        },
        "id": "C1rlIFLe-Kwi",
        "outputId": "d5a10bbf-76bc-49b5-a712-aee7377e8f11"
      },
      "source": [
        "df.head()"
      ],
      "execution_count": 48,
      "outputs": [
        {
          "output_type": "execute_result",
          "data": {
            "text/html": [
              "<div>\n",
              "<style scoped>\n",
              "    .dataframe tbody tr th:only-of-type {\n",
              "        vertical-align: middle;\n",
              "    }\n",
              "\n",
              "    .dataframe tbody tr th {\n",
              "        vertical-align: top;\n",
              "    }\n",
              "\n",
              "    .dataframe thead th {\n",
              "        text-align: right;\n",
              "    }\n",
              "</style>\n",
              "<table border=\"1\" class=\"dataframe\">\n",
              "  <thead>\n",
              "    <tr style=\"text-align: right;\">\n",
              "      <th></th>\n",
              "      <th>Place of Publication</th>\n",
              "      <th>Date of Publication</th>\n",
              "      <th>Publisher</th>\n",
              "      <th>Title</th>\n",
              "      <th>Author</th>\n",
              "      <th>Flickr URL</th>\n",
              "    </tr>\n",
              "    <tr>\n",
              "      <th>Identifier</th>\n",
              "      <th></th>\n",
              "      <th></th>\n",
              "      <th></th>\n",
              "      <th></th>\n",
              "      <th></th>\n",
              "      <th></th>\n",
              "    </tr>\n",
              "  </thead>\n",
              "  <tbody>\n",
              "    <tr>\n",
              "      <th>206</th>\n",
              "      <td>London</td>\n",
              "      <td>1879.0</td>\n",
              "      <td>S. Tinsley &amp; Co.</td>\n",
              "      <td>Walter Forbes. [A novel.] By A. A</td>\n",
              "      <td>A. A.</td>\n",
              "      <td>http://www.flickr.com/photos/britishlibrary/ta...</td>\n",
              "    </tr>\n",
              "    <tr>\n",
              "      <th>216</th>\n",
              "      <td>London; Virtue &amp; Yorston</td>\n",
              "      <td>1868.0</td>\n",
              "      <td>Virtue &amp; Co.</td>\n",
              "      <td>All for Greed. [A novel. The dedication signed...</td>\n",
              "      <td>A., A. A.</td>\n",
              "      <td>http://www.flickr.com/photos/britishlibrary/ta...</td>\n",
              "    </tr>\n",
              "    <tr>\n",
              "      <th>218</th>\n",
              "      <td>London</td>\n",
              "      <td>1869.0</td>\n",
              "      <td>Bradbury, Evans &amp; Co.</td>\n",
              "      <td>Love the Avenger. By the author of “All for Gr...</td>\n",
              "      <td>A., A. A.</td>\n",
              "      <td>http://www.flickr.com/photos/britishlibrary/ta...</td>\n",
              "    </tr>\n",
              "    <tr>\n",
              "      <th>472</th>\n",
              "      <td>London</td>\n",
              "      <td>1851.0</td>\n",
              "      <td>James Darling</td>\n",
              "      <td>Welsh Sketches, chiefly ecclesiastical, to the...</td>\n",
              "      <td>A., E. S.</td>\n",
              "      <td>http://www.flickr.com/photos/britishlibrary/ta...</td>\n",
              "    </tr>\n",
              "    <tr>\n",
              "      <th>480</th>\n",
              "      <td>London</td>\n",
              "      <td>1857.0</td>\n",
              "      <td>Wertheim &amp; Macintosh</td>\n",
              "      <td>[The World in which I live, and my place in it...</td>\n",
              "      <td>A., E. S.</td>\n",
              "      <td>http://www.flickr.com/photos/britishlibrary/ta...</td>\n",
              "    </tr>\n",
              "  </tbody>\n",
              "</table>\n",
              "</div>"
            ],
            "text/plain": [
              "                Place of Publication  ...                                         Flickr URL\n",
              "Identifier                            ...                                                   \n",
              "206                           London  ...  http://www.flickr.com/photos/britishlibrary/ta...\n",
              "216         London; Virtue & Yorston  ...  http://www.flickr.com/photos/britishlibrary/ta...\n",
              "218                           London  ...  http://www.flickr.com/photos/britishlibrary/ta...\n",
              "472                           London  ...  http://www.flickr.com/photos/britishlibrary/ta...\n",
              "480                           London  ...  http://www.flickr.com/photos/britishlibrary/ta...\n",
              "\n",
              "[5 rows x 6 columns]"
            ]
          },
          "metadata": {
            "tags": []
          },
          "execution_count": 48
        }
      ]
    },
    {
      "cell_type": "code",
      "metadata": {
        "colab": {
          "base_uri": "https://localhost:8080/"
        },
        "id": "oRZPiraxAeWO",
        "outputId": "83b52473-1a80-4093-9f91-b9727b8d62e0"
      },
      "source": [
        "df['Place of Publication'].head(10)"
      ],
      "execution_count": 51,
      "outputs": [
        {
          "output_type": "execute_result",
          "data": {
            "text/plain": [
              "Identifier\n",
              "206                                  London\n",
              "216                London; Virtue & Yorston\n",
              "218                                  London\n",
              "472                                  London\n",
              "480                                  London\n",
              "481                                  London\n",
              "519                                  London\n",
              "667     pp. 40. G. Bryan & Co: Oxford, 1898\n",
              "874                                 London]\n",
              "1143                                 London\n",
              "Name: Place of Publication, dtype: object"
            ]
          },
          "metadata": {
            "tags": []
          },
          "execution_count": 51
        }
      ]
    },
    {
      "cell_type": "code",
      "metadata": {
        "id": "nCp1t4IXCIeb"
      },
      "source": [
        "pub_place = df['Place of Publication']\n",
        "london = pub_place.str.contains('London')\n",
        "oxford = pub_place.str.contains('Oxford')"
      ],
      "execution_count": 55,
      "outputs": []
    },
    {
      "cell_type": "code",
      "metadata": {
        "id": "cHuQJC63CpD5"
      },
      "source": [
        "df['Place of Publication'] = np.where(london, 'London',\n",
        "                                      np.where(oxford, 'Oxford',\n",
        "                                               pub_place.str.replace('-', ' ')))"
      ],
      "execution_count": 56,
      "outputs": []
    },
    {
      "cell_type": "code",
      "metadata": {
        "colab": {
          "base_uri": "https://localhost:8080/"
        },
        "id": "DL0b9sIADVC6",
        "outputId": "516576a5-f4c0-46be-d38e-c3421a91b663"
      },
      "source": [
        "df['Place of Publication'].head(20)"
      ],
      "execution_count": 58,
      "outputs": [
        {
          "output_type": "execute_result",
          "data": {
            "text/plain": [
              "Identifier\n",
              "206          London\n",
              "216          London\n",
              "218          London\n",
              "472          London\n",
              "480          London\n",
              "481          London\n",
              "519          London\n",
              "667          Oxford\n",
              "874          London\n",
              "1143         London\n",
              "1280       Coventry\n",
              "1808    Christiania\n",
              "1905        Firenze\n",
              "1929      Amsterdam\n",
              "2836         Savona\n",
              "2854         London\n",
              "2956          Paris\n",
              "2957          Paris\n",
              "3017    Puerto Rico\n",
              "3131       New York\n",
              "Name: Place of Publication, dtype: object"
            ]
          },
          "metadata": {
            "tags": []
          },
          "execution_count": 58
        }
      ]
    },
    {
      "cell_type": "code",
      "metadata": {
        "colab": {
          "base_uri": "https://localhost:8080/"
        },
        "id": "8twST-W0Oy8_",
        "outputId": "8904ad12-3c49-4d2c-cb64-3710d522e5d0"
      },
      "source": [
        "uni_cities = []\n",
        "with open('university_towns.txt') as file:\n",
        "  for line in file:\n",
        "    if '[edit]' in line:\n",
        "      state = line\n",
        "    else:\n",
        "      uni_cities.append((state, line))\n",
        "\n",
        "uni_cities[:10]"
      ],
      "execution_count": 62,
      "outputs": [
        {
          "output_type": "execute_result",
          "data": {
            "text/plain": [
              "[('Alabama[edit]\\n', 'Auburn (Auburn University)[1]\\n'),\n",
              " ('Alabama[edit]\\n', 'Florence (University of North Alabama)\\n'),\n",
              " ('Alabama[edit]\\n', 'Jacksonville (Jacksonville State University)[2]\\n'),\n",
              " ('Alabama[edit]\\n', 'Livingston (University of West Alabama)[2]\\n'),\n",
              " ('Alabama[edit]\\n', 'Montevallo (University of Montevallo)[2]\\n'),\n",
              " ('Alabama[edit]\\n', 'Troy (Troy University)[2]\\n'),\n",
              " ('Alabama[edit]\\n',\n",
              "  'Tuscaloosa (University of Alabama, Stillman College, Shelton State)[3][4]\\n'),\n",
              " ('Alabama[edit]\\n', 'Tuskegee (Tuskegee University)[5]\\n'),\n",
              " ('Alaska[edit]\\n', 'Fairbanks (University of Alaska Fairbanks)[2]\\n'),\n",
              " ('Arizona[edit]\\n', 'Flagstaff (Northern Arizona University)[6]\\n')]"
            ]
          },
          "metadata": {
            "tags": []
          },
          "execution_count": 62
        }
      ]
    },
    {
      "cell_type": "code",
      "metadata": {
        "colab": {
          "base_uri": "https://localhost:8080/",
          "height": 353
        },
        "id": "4VXT5sWTSH9d",
        "outputId": "e1f838a2-2133-44a7-b3fc-a070a652c47c"
      },
      "source": [
        "cities_df = pd.DataFrame(uni_cities, columns=['State', 'Region_Name'])\n",
        "cities_df.head(10)"
      ],
      "execution_count": 75,
      "outputs": [
        {
          "output_type": "execute_result",
          "data": {
            "text/html": [
              "<div>\n",
              "<style scoped>\n",
              "    .dataframe tbody tr th:only-of-type {\n",
              "        vertical-align: middle;\n",
              "    }\n",
              "\n",
              "    .dataframe tbody tr th {\n",
              "        vertical-align: top;\n",
              "    }\n",
              "\n",
              "    .dataframe thead th {\n",
              "        text-align: right;\n",
              "    }\n",
              "</style>\n",
              "<table border=\"1\" class=\"dataframe\">\n",
              "  <thead>\n",
              "    <tr style=\"text-align: right;\">\n",
              "      <th></th>\n",
              "      <th>State</th>\n",
              "      <th>Region_Name</th>\n",
              "    </tr>\n",
              "  </thead>\n",
              "  <tbody>\n",
              "    <tr>\n",
              "      <th>0</th>\n",
              "      <td>Alabama[edit]\\n</td>\n",
              "      <td>Auburn (Auburn University)[1]\\n</td>\n",
              "    </tr>\n",
              "    <tr>\n",
              "      <th>1</th>\n",
              "      <td>Alabama[edit]\\n</td>\n",
              "      <td>Florence (University of North Alabama)\\n</td>\n",
              "    </tr>\n",
              "    <tr>\n",
              "      <th>2</th>\n",
              "      <td>Alabama[edit]\\n</td>\n",
              "      <td>Jacksonville (Jacksonville State University)[2]\\n</td>\n",
              "    </tr>\n",
              "    <tr>\n",
              "      <th>3</th>\n",
              "      <td>Alabama[edit]\\n</td>\n",
              "      <td>Livingston (University of West Alabama)[2]\\n</td>\n",
              "    </tr>\n",
              "    <tr>\n",
              "      <th>4</th>\n",
              "      <td>Alabama[edit]\\n</td>\n",
              "      <td>Montevallo (University of Montevallo)[2]\\n</td>\n",
              "    </tr>\n",
              "    <tr>\n",
              "      <th>5</th>\n",
              "      <td>Alabama[edit]\\n</td>\n",
              "      <td>Troy (Troy University)[2]\\n</td>\n",
              "    </tr>\n",
              "    <tr>\n",
              "      <th>6</th>\n",
              "      <td>Alabama[edit]\\n</td>\n",
              "      <td>Tuscaloosa (University of Alabama, Stillman Co...</td>\n",
              "    </tr>\n",
              "    <tr>\n",
              "      <th>7</th>\n",
              "      <td>Alabama[edit]\\n</td>\n",
              "      <td>Tuskegee (Tuskegee University)[5]\\n</td>\n",
              "    </tr>\n",
              "    <tr>\n",
              "      <th>8</th>\n",
              "      <td>Alaska[edit]\\n</td>\n",
              "      <td>Fairbanks (University of Alaska Fairbanks)[2]\\n</td>\n",
              "    </tr>\n",
              "    <tr>\n",
              "      <th>9</th>\n",
              "      <td>Arizona[edit]\\n</td>\n",
              "      <td>Flagstaff (Northern Arizona University)[6]\\n</td>\n",
              "    </tr>\n",
              "  </tbody>\n",
              "</table>\n",
              "</div>"
            ],
            "text/plain": [
              "             State                                        Region_Name\n",
              "0  Alabama[edit]\\n                    Auburn (Auburn University)[1]\\n\n",
              "1  Alabama[edit]\\n           Florence (University of North Alabama)\\n\n",
              "2  Alabama[edit]\\n  Jacksonville (Jacksonville State University)[2]\\n\n",
              "3  Alabama[edit]\\n       Livingston (University of West Alabama)[2]\\n\n",
              "4  Alabama[edit]\\n         Montevallo (University of Montevallo)[2]\\n\n",
              "5  Alabama[edit]\\n                        Troy (Troy University)[2]\\n\n",
              "6  Alabama[edit]\\n  Tuscaloosa (University of Alabama, Stillman Co...\n",
              "7  Alabama[edit]\\n                Tuskegee (Tuskegee University)[5]\\n\n",
              "8   Alaska[edit]\\n    Fairbanks (University of Alaska Fairbanks)[2]\\n\n",
              "9  Arizona[edit]\\n       Flagstaff (Northern Arizona University)[6]\\n"
            ]
          },
          "metadata": {
            "tags": []
          },
          "execution_count": 75
        }
      ]
    },
    {
      "cell_type": "code",
      "metadata": {
        "id": "KZ1onrnKT-9-"
      },
      "source": [
        "def get_city_state(item):\n",
        "  if ' ()' in item:\n",
        "    return item[:item.find(' ()')]\n",
        "  elif '[]' in item:\n",
        "    return item[:item.find('[]')]\n",
        "  else:\n",
        "    return item"
      ],
      "execution_count": 73,
      "outputs": []
    },
    {
      "cell_type": "code",
      "metadata": {
        "colab": {
          "base_uri": "https://localhost:8080/",
          "height": 353
        },
        "id": "Y2jcjPwOUhSx",
        "outputId": "59ad008a-2a55-44fd-f88e-645a6fe76a8e"
      },
      "source": [
        "cities_df = cities_df.applymap(get_city_state)\n",
        "cities_df.head(10)"
      ],
      "execution_count": 74,
      "outputs": [
        {
          "output_type": "execute_result",
          "data": {
            "text/html": [
              "<div>\n",
              "<style scoped>\n",
              "    .dataframe tbody tr th:only-of-type {\n",
              "        vertical-align: middle;\n",
              "    }\n",
              "\n",
              "    .dataframe tbody tr th {\n",
              "        vertical-align: top;\n",
              "    }\n",
              "\n",
              "    .dataframe thead th {\n",
              "        text-align: right;\n",
              "    }\n",
              "</style>\n",
              "<table border=\"1\" class=\"dataframe\">\n",
              "  <thead>\n",
              "    <tr style=\"text-align: right;\">\n",
              "      <th></th>\n",
              "      <th>State</th>\n",
              "      <th>Region_Name</th>\n",
              "    </tr>\n",
              "  </thead>\n",
              "  <tbody>\n",
              "    <tr>\n",
              "      <th>0</th>\n",
              "      <td>Alabama</td>\n",
              "      <td>Auburn</td>\n",
              "    </tr>\n",
              "    <tr>\n",
              "      <th>1</th>\n",
              "      <td>Alabama</td>\n",
              "      <td>Florence</td>\n",
              "    </tr>\n",
              "    <tr>\n",
              "      <th>2</th>\n",
              "      <td>Alabama</td>\n",
              "      <td>Jacksonville</td>\n",
              "    </tr>\n",
              "    <tr>\n",
              "      <th>3</th>\n",
              "      <td>Alabama</td>\n",
              "      <td>Livingston</td>\n",
              "    </tr>\n",
              "    <tr>\n",
              "      <th>4</th>\n",
              "      <td>Alabama</td>\n",
              "      <td>Montevallo</td>\n",
              "    </tr>\n",
              "    <tr>\n",
              "      <th>5</th>\n",
              "      <td>Alabama</td>\n",
              "      <td>Troy</td>\n",
              "    </tr>\n",
              "    <tr>\n",
              "      <th>6</th>\n",
              "      <td>Alabama</td>\n",
              "      <td>Tuscaloosa</td>\n",
              "    </tr>\n",
              "    <tr>\n",
              "      <th>7</th>\n",
              "      <td>Alabama</td>\n",
              "      <td>Tuskegee</td>\n",
              "    </tr>\n",
              "    <tr>\n",
              "      <th>8</th>\n",
              "      <td>Alaska</td>\n",
              "      <td>Fairbanks</td>\n",
              "    </tr>\n",
              "    <tr>\n",
              "      <th>9</th>\n",
              "      <td>Arizona</td>\n",
              "      <td>Flagstaff</td>\n",
              "    </tr>\n",
              "  </tbody>\n",
              "</table>\n",
              "</div>"
            ],
            "text/plain": [
              "     State   Region_Name\n",
              "0  Alabama        Auburn\n",
              "1  Alabama      Florence\n",
              "2  Alabama  Jacksonville\n",
              "3  Alabama    Livingston\n",
              "4  Alabama    Montevallo\n",
              "5  Alabama          Troy\n",
              "6  Alabama    Tuscaloosa\n",
              "7  Alabama      Tuskegee\n",
              "8   Alaska     Fairbanks\n",
              "9  Arizona     Flagstaff"
            ]
          },
          "metadata": {
            "tags": []
          },
          "execution_count": 74
        }
      ]
    }
  ]
}